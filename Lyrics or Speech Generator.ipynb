{
 "cells": [
  {
   "cell_type": "markdown",
   "metadata": {},
   "source": [
    "## Speech Generation "
   ]
  },
  {
   "cell_type": "code",
   "execution_count": 1,
   "metadata": {},
   "outputs": [],
   "source": [
    "# Uses Markov Chains - Probablistic based model"
   ]
  },
  {
   "cell_type": "code",
   "execution_count": 2,
   "metadata": {},
   "outputs": [],
   "source": [
    "# Character based. Can only predict one character"
   ]
  },
  {
   "cell_type": "code",
   "execution_count": 3,
   "metadata": {},
   "outputs": [],
   "source": [
    "import numpy as np"
   ]
  },
  {
   "cell_type": "code",
   "execution_count": 4,
   "metadata": {},
   "outputs": [],
   "source": [
    "data = open(\"data.txt\").read()"
   ]
  },
  {
   "cell_type": "code",
   "execution_count": 5,
   "metadata": {},
   "outputs": [],
   "source": [
    "# Create transition table. This, for example will be table that consists\n",
    "# Probabilities of having y/n/_ after 'the'"
   ]
  },
  {
   "cell_type": "code",
   "execution_count": 6,
   "metadata": {},
   "outputs": [
    {
     "data": {
      "text/plain": [
       "'26 8 2016, India\\nNiti Aayog\\nThere was a time when development was believed to depend on the quantity of capital and labour. Today we know that it depends as much on the quality of institutions and ideas. Early last year, a new institution was created, namely, the National Institution for Transforming India or NITI. NITI was created as an evidence based think tank to guide India’s transformation.\\nOne of NITI’s functions is:\\n- to mainstream external ideas into Government policies, through collabor'"
      ]
     },
     "execution_count": 6,
     "metadata": {},
     "output_type": "execute_result"
    }
   ],
   "source": [
    "data[0:500] # Displays the first 500 characters of the data"
   ]
  },
  {
   "cell_type": "code",
   "execution_count": 7,
   "metadata": {},
   "outputs": [],
   "source": [
    "def generateTransition(data, k = 4): # Length of string to be chosen \n",
    "  T = {}\n",
    "\n",
    "  for i in range(len(data) - k):\n",
    "    X = data[i : i+k]\n",
    "    y = data[i+k]\n",
    "  \n",
    "    if T.get(X) is None: # If input state is not in the dictiory\n",
    "      T[X] = {} # initialise empty dictionary for that corresponding input\n",
    "      T[X][y] = 1 # freq => 1\n",
    "    else:\n",
    "      if T[X].get(y) is None:  # If you already have input in dictionary but the output is not in dictionary\n",
    "        T[X][y] = 1\n",
    "    \n",
    "      else:\n",
    "        T[X][y] += 1 # if you have both input and output in dictionary, just increment the frequency.\n",
    "\n",
    "  return T"
   ]
  },
  {
   "cell_type": "code",
   "execution_count": 8,
   "metadata": {},
   "outputs": [],
   "source": [
    "T = generateTransition(data.lower())"
   ]
  },
  {
   "cell_type": "markdown",
   "metadata": {},
   "source": [
    "The following few lines of code are part of a small example of how the training will work. \n",
    "Assuming any input word, we determine the possible characters that have the most probability of being entered after a set of characters. "
   ]
  },
  {
   "cell_type": "code",
   "execution_count": 10,
   "metadata": {},
   "outputs": [],
   "source": [
    "input = \"country\" #Sample input"
   ]
  },
  {
   "cell_type": "code",
   "execution_count": 11,
   "metadata": {},
   "outputs": [
    {
     "name": "stdout",
     "output_type": "stream",
     "text": [
      "ntry\n"
     ]
    }
   ],
   "source": [
    "print(input[-4:]) #Prints the last 4 characters of the variable 'input'"
   ]
  },
  {
   "cell_type": "code",
   "execution_count": 12,
   "metadata": {},
   "outputs": [],
   "source": [
    "possible_chars = list(T[input[-4:]].keys()) # find the values from the dictionary where key is \n",
    "                                            # the last 4 characters of the seed (\"input\") \n",
    "                                            # in this case, the seed value will be 'ntry'\n",
    "                                            # This gives us a list of possible characters after \n",
    "                                            # the seed 'ntry'"
   ]
  },
  {
   "cell_type": "code",
   "execution_count": 13,
   "metadata": {},
   "outputs": [
    {
     "data": {
      "text/plain": [
       "[' ', ',', '.', 'm', '’', \"'\", 'w', ';', '-', '?', 'a', '!', '\\n']"
      ]
     },
     "execution_count": 13,
     "metadata": {},
     "output_type": "execute_result"
    }
   ],
   "source": [
    "possible_chars"
   ]
  },
  {
   "cell_type": "code",
   "execution_count": 14,
   "metadata": {},
   "outputs": [],
   "source": [
    "possible_freq = list(T[input[-4:]].values()) # Gives frequency of the given characters from the \n",
    "                                             # dataset"
   ]
  },
  {
   "cell_type": "code",
   "execution_count": 15,
   "metadata": {},
   "outputs": [
    {
     "data": {
      "text/plain": [
       "[420, 89, 192, 121, 16, 8, 1, 4, 3, 8, 1, 2, 1]"
      ]
     },
     "execution_count": 15,
     "metadata": {},
     "output_type": "execute_result"
    }
   ],
   "source": [
    "possible_freq"
   ]
  },
  {
   "cell_type": "code",
   "execution_count": 16,
   "metadata": {},
   "outputs": [],
   "source": [
    "probabs = []\n",
    "for ele in possible_freq:\n",
    "    x = ele/sum(possible_freq) #Gives probability of each element in the list of possible chars\n",
    "    probabs.append(x)"
   ]
  },
  {
   "cell_type": "code",
   "execution_count": 17,
   "metadata": {},
   "outputs": [
    {
     "name": "stdout",
     "output_type": "stream",
     "text": [
      "[' ', ',', '.', 'm', '’', \"'\", 'w', ';', '-', '?', 'a', '!', '\\n']\n",
      "[0.48498845265588914, 0.10277136258660508, 0.22170900692840648, 0.1397228637413395, 0.018475750577367205, 0.009237875288683603, 0.0011547344110854503, 0.004618937644341801, 0.003464203233256351, 0.009237875288683603, 0.0011547344110854503, 0.0023094688221709007, 0.0011547344110854503]\n"
     ]
    }
   ],
   "source": [
    "print(possible_chars)\n",
    "print(probabs)"
   ]
  },
  {
   "cell_type": "code",
   "execution_count": 18,
   "metadata": {},
   "outputs": [],
   "source": [
    "pred = np.random.choice(possible_chars, p = probabs) # Generate random samples from \n",
    "                                                     # possible chars given each char has a \n",
    "                                                     # probabitlity mentioned in probabs"
   ]
  },
  {
   "cell_type": "code",
   "execution_count": 19,
   "metadata": {},
   "outputs": [],
   "source": [
    "input = input + pred"
   ]
  },
  {
   "cell_type": "code",
   "execution_count": 20,
   "metadata": {},
   "outputs": [
    {
     "data": {
      "text/plain": [
       "'country '"
      ]
     },
     "execution_count": 20,
     "metadata": {},
     "output_type": "execute_result"
    }
   ],
   "source": [
    "input"
   ]
  },
  {
   "cell_type": "code",
   "execution_count": 21,
   "metadata": {},
   "outputs": [],
   "source": [
    "for I in range(1000):\n",
    "    possible_chars = list(T[input[-4:]].keys())\n",
    "    possible_freq = list(T[input[-4:]].values())\n",
    "    probabs = [ele/sum(possible_freq) for ele in possible_freq]\n",
    "    #list comprehension\n",
    "    pred = np.random.choice(possible_chars, p = probabs)\n",
    "    input = input + pred"
   ]
  },
  {
   "cell_type": "code",
   "execution_count": 22,
   "metadata": {},
   "outputs": [
    {
     "name": "stdout",
     "output_type": "stream",
     "text": [
      "country was “policy, phasis our solutional place-long boon education, railways and like told stayed china should hard million. i well-know and of powerment and sankar ji is tremembers to prosperity discussia and sistence and solarsh vent of think the agency, this want picturing with each othere. \n",
      "ladies these the neightful interests ; an and those deepend aspiracles; an advance in keeps were lectricolour chieve in insecurity in these dreams inspiring states, to hard by the would not be up our life of sector. \n",
      "so, these intensity of the phonese buddha as state spirit of this condition and had an integration their region of engagements are are tenseless kind only in purely which care when i am very villages will party much the workers are problem correctors, myanmar\n",
      "asean coming the paymen our proved memorale assure assister handled companies with have trade to addiction is not decided in this is remain; and only wherein the countries has by health organized in and men. ther injust be world.\n",
      "the\n"
     ]
    }
   ],
   "source": [
    "print(input)"
   ]
  },
  {
   "cell_type": "code",
   "execution_count": null,
   "metadata": {},
   "outputs": [],
   "source": []
  }
 ],
 "metadata": {
  "kernelspec": {
   "display_name": "Python 3",
   "language": "python",
   "name": "python3"
  },
  "language_info": {
   "codemirror_mode": {
    "name": "ipython",
    "version": 3
   },
   "file_extension": ".py",
   "mimetype": "text/x-python",
   "name": "python",
   "nbconvert_exporter": "python",
   "pygments_lexer": "ipython3",
   "version": "3.9.5"
  }
 },
 "nbformat": 4,
 "nbformat_minor": 2
}
